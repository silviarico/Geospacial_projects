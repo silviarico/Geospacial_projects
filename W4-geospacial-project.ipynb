{
 "cells": [
  {
   "cell_type": "markdown",
   "id": "4081c26c",
   "metadata": {},
   "source": [
    "1- Getting information from \"Companies\" colection"
   ]
  },
  {
   "cell_type": "code",
   "execution_count": 1,
   "id": "a1063295",
   "metadata": {},
   "outputs": [],
   "source": [
    "from pymongo import MongoClient\n",
    "import pandas as pd\n",
    "from pandas import json_normalize\n",
    "import numpy as np\n",
    "import requests\n",
    "import json\n",
    "import os\n",
    "from dotenv import load_dotenv\n",
    "from pymongo import GEOSPHERE\n",
    "import geopandas as gpd"
   ]
  },
  {
   "cell_type": "code",
   "execution_count": 2,
   "id": "e351bd54",
   "metadata": {},
   "outputs": [],
   "source": [
    "client=MongoClient(\"localhost:27017\")"
   ]
  },
  {
   "cell_type": "code",
   "execution_count": 3,
   "id": "35ce044e",
   "metadata": {},
   "outputs": [
    {
     "data": {
      "text/plain": [
       "MongoClient(host=['localhost:27017'], document_class=dict, tz_aware=False, connect=True)"
      ]
     },
     "execution_count": 3,
     "metadata": {},
     "output_type": "execute_result"
    }
   ],
   "source": [
    "client"
   ]
  },
  {
   "cell_type": "code",
   "execution_count": 4,
   "id": "932cbada",
   "metadata": {},
   "outputs": [],
   "source": [
    "db=client.get_database(\"ironhack\")"
   ]
  },
  {
   "cell_type": "code",
   "execution_count": 5,
   "id": "8bec878d",
   "metadata": {},
   "outputs": [],
   "source": [
    "c= db.get_collection(\"companies\")"
   ]
  },
  {
   "cell_type": "code",
   "execution_count": 6,
   "id": "b14e6ee5",
   "metadata": {},
   "outputs": [
    {
     "data": {
      "text/plain": [
       "Collection(Database(MongoClient(host=['localhost:27017'], document_class=dict, tz_aware=False, connect=True), 'ironhack'), 'companies')"
      ]
     },
     "execution_count": 6,
     "metadata": {},
     "output_type": "execute_result"
    }
   ],
   "source": [
    "c"
   ]
  },
  {
   "cell_type": "code",
   "execution_count": 7,
   "id": "7899c63d",
   "metadata": {
    "scrolled": false
   },
   "outputs": [],
   "source": [
    "#c.find_one()"
   ]
  },
  {
   "cell_type": "markdown",
   "id": "891fe4b0",
   "metadata": {},
   "source": [
    "For this project I have chosen New York City, Moscow and Paris as possible locations of the new office. "
   ]
  },
  {
   "cell_type": "code",
   "execution_count": 8,
   "id": "4f73a2b4",
   "metadata": {},
   "outputs": [
    {
     "data": {
      "text/plain": [
       "{'description': None,\n",
       " 'address1': None,\n",
       " 'address2': None,\n",
       " 'zip_code': None,\n",
       " 'city': None,\n",
       " 'state_code': None,\n",
       " 'country_code': 'CAN',\n",
       " 'latitude': 56.130366,\n",
       " 'longitude': -106.346771}"
      ]
     },
     "execution_count": 8,
     "metadata": {},
     "output_type": "execute_result"
    }
   ],
   "source": [
    "c.distinct(\"offices\")[0]"
   ]
  },
  {
   "cell_type": "markdown",
   "id": "56cb7f12",
   "metadata": {},
   "source": [
    "## New York"
   ]
  },
  {
   "cell_type": "code",
   "execution_count": 9,
   "id": "7997eedc",
   "metadata": {},
   "outputs": [],
   "source": [
    "ny = list(c.find({\"offices.city\":\"New York\"}))"
   ]
  },
  {
   "cell_type": "code",
   "execution_count": 10,
   "id": "be50c6d9",
   "metadata": {},
   "outputs": [],
   "source": [
    "ny2 = list(c.find({\"offices.city\":\"New York City\"}))\n",
    "#navigating through the collection I had realized that New York is writen in two different ways"
   ]
  },
  {
   "cell_type": "code",
   "execution_count": 11,
   "id": "7978bd36",
   "metadata": {},
   "outputs": [],
   "source": [
    "nyc1=[]\n",
    "nyc1.append(ny) \n",
    "nyc1.append(ny2)\n",
    "#we are able to get all the companies in New York by appending the two list"
   ]
  },
  {
   "cell_type": "code",
   "execution_count": 12,
   "id": "f75d61da",
   "metadata": {},
   "outputs": [],
   "source": [
    "nyc=[]\n",
    "nyc=[item for l in nyc1 for item in l]"
   ]
  },
  {
   "cell_type": "code",
   "execution_count": 13,
   "id": "151c3416",
   "metadata": {},
   "outputs": [
    {
     "data": {
      "text/plain": [
       "870"
      ]
     },
     "execution_count": 13,
     "metadata": {},
     "output_type": "execute_result"
    }
   ],
   "source": [
    "len(nyc)"
   ]
  },
  {
   "cell_type": "code",
   "execution_count": 14,
   "id": "9919585f",
   "metadata": {},
   "outputs": [],
   "source": [
    "m = list(c.find({\"offices.city\":\"Moscow\"})) "
   ]
  },
  {
   "cell_type": "code",
   "execution_count": 15,
   "id": "abef8b17",
   "metadata": {},
   "outputs": [
    {
     "data": {
      "text/plain": [
       "28"
      ]
     },
     "execution_count": 15,
     "metadata": {},
     "output_type": "execute_result"
    }
   ],
   "source": [
    "len(m)"
   ]
  },
  {
   "cell_type": "code",
   "execution_count": 16,
   "id": "55c5b11a",
   "metadata": {},
   "outputs": [],
   "source": [
    " p = list(c.find({\"offices.city\":\"Paris\"})) "
   ]
  },
  {
   "cell_type": "code",
   "execution_count": 17,
   "id": "338a2b26",
   "metadata": {},
   "outputs": [
    {
     "data": {
      "text/plain": [
       "179"
      ]
     },
     "execution_count": 17,
     "metadata": {},
     "output_type": "execute_result"
    }
   ],
   "source": [
    "len(p)"
   ]
  },
  {
   "cell_type": "code",
   "execution_count": 18,
   "id": "d6f63da7",
   "metadata": {},
   "outputs": [],
   "source": [
    "nyc_of = []\n",
    "for i in range(len(nyc)):\n",
    "    dic = {}\n",
    "    dic[\"Name\"] = nyc[i][\"name\"]\n",
    "    dic['number_of_employees']=nyc[i]['number_of_employees']\n",
    "    for x in range(len(nyc[i][\"offices\"])):\n",
    "        if nyc[i][\"offices\"][x][\"city\"] == \"New York\" or nyc[i][\"offices\"][x][\"city\"] == \"New York City\":\n",
    "            dic[\"City\"] = nyc[i][\"offices\"][x][\"city\"]\n",
    "            dic[\"Latitude\"] = nyc[i][\"offices\"][x][\"latitude\"]\n",
    "            dic[\"Longitude\"] = nyc[i][\"offices\"][x][\"longitude\"]\n",
    "            dic[\"Coordinates\"] = {\"type\": \"Point\", \"coordinates\": [nyc[i][\"offices\"][x][\"latitude\"], nyc[i][\"offices\"][x][\"longitude\"]]}   \n",
    "    nyc_of.append(dic)\n",
    "\n"
   ]
  },
  {
   "cell_type": "code",
   "execution_count": 19,
   "id": "cca9de4a",
   "metadata": {},
   "outputs": [
    {
     "data": {
      "text/plain": [
       "{'Name': 'Wetpaint',\n",
       " 'number_of_employees': 47,\n",
       " 'City': 'New York',\n",
       " 'Latitude': 40.7237306,\n",
       " 'Longitude': -73.9964312,\n",
       " 'Coordinates': {'type': 'Point', 'coordinates': [40.7237306, -73.9964312]}}"
      ]
     },
     "execution_count": 19,
     "metadata": {},
     "output_type": "execute_result"
    }
   ],
   "source": [
    "nyc_of[0]"
   ]
  },
  {
   "cell_type": "code",
   "execution_count": 21,
   "id": "98a327bd",
   "metadata": {},
   "outputs": [
    {
     "data": {
      "text/html": [
       "<div>\n",
       "<style scoped>\n",
       "    .dataframe tbody tr th:only-of-type {\n",
       "        vertical-align: middle;\n",
       "    }\n",
       "\n",
       "    .dataframe tbody tr th {\n",
       "        vertical-align: top;\n",
       "    }\n",
       "\n",
       "    .dataframe thead th {\n",
       "        text-align: right;\n",
       "    }\n",
       "</style>\n",
       "<table border=\"1\" class=\"dataframe\">\n",
       "  <thead>\n",
       "    <tr style=\"text-align: right;\">\n",
       "      <th></th>\n",
       "      <th>Name</th>\n",
       "      <th>number_of_employees</th>\n",
       "      <th>City</th>\n",
       "      <th>Latitude</th>\n",
       "      <th>Longitude</th>\n",
       "      <th>Coordinates</th>\n",
       "    </tr>\n",
       "  </thead>\n",
       "  <tbody>\n",
       "    <tr>\n",
       "      <th>0</th>\n",
       "      <td>Wetpaint</td>\n",
       "      <td>47.0</td>\n",
       "      <td>New York</td>\n",
       "      <td>40.723731</td>\n",
       "      <td>-73.996431</td>\n",
       "      <td>{'type': 'Point', 'coordinates': [40.7237306, ...</td>\n",
       "    </tr>\n",
       "    <tr>\n",
       "      <th>1</th>\n",
       "      <td>Facebook</td>\n",
       "      <td>5299.0</td>\n",
       "      <td>New York</td>\n",
       "      <td>40.755716</td>\n",
       "      <td>-73.979247</td>\n",
       "      <td>{'type': 'Point', 'coordinates': [40.7557162, ...</td>\n",
       "    </tr>\n",
       "    <tr>\n",
       "      <th>2</th>\n",
       "      <td>Joost</td>\n",
       "      <td>0.0</td>\n",
       "      <td>New York</td>\n",
       "      <td>40.746497</td>\n",
       "      <td>-74.009447</td>\n",
       "      <td>{'type': 'Point', 'coordinates': [40.7464969, ...</td>\n",
       "    </tr>\n",
       "    <tr>\n",
       "      <th>3</th>\n",
       "      <td>Viacom</td>\n",
       "      <td>NaN</td>\n",
       "      <td>New York</td>\n",
       "      <td>40.757725</td>\n",
       "      <td>-73.986011</td>\n",
       "      <td>{'type': 'Point', 'coordinates': [40.757725, -...</td>\n",
       "    </tr>\n",
       "    <tr>\n",
       "      <th>4</th>\n",
       "      <td>AddThis</td>\n",
       "      <td>120.0</td>\n",
       "      <td>New York</td>\n",
       "      <td>40.724604</td>\n",
       "      <td>-73.996876</td>\n",
       "      <td>{'type': 'Point', 'coordinates': [40.724604, -...</td>\n",
       "    </tr>\n",
       "  </tbody>\n",
       "</table>\n",
       "</div>"
      ],
      "text/plain": [
       "       Name  number_of_employees      City   Latitude  Longitude  \\\n",
       "0  Wetpaint                 47.0  New York  40.723731 -73.996431   \n",
       "1  Facebook               5299.0  New York  40.755716 -73.979247   \n",
       "2     Joost                  0.0  New York  40.746497 -74.009447   \n",
       "3    Viacom                  NaN  New York  40.757725 -73.986011   \n",
       "4   AddThis                120.0  New York  40.724604 -73.996876   \n",
       "\n",
       "                                         Coordinates  \n",
       "0  {'type': 'Point', 'coordinates': [40.7237306, ...  \n",
       "1  {'type': 'Point', 'coordinates': [40.7557162, ...  \n",
       "2  {'type': 'Point', 'coordinates': [40.7464969, ...  \n",
       "3  {'type': 'Point', 'coordinates': [40.757725, -...  \n",
       "4  {'type': 'Point', 'coordinates': [40.724604, -...  "
      ]
     },
     "execution_count": 21,
     "metadata": {},
     "output_type": "execute_result"
    }
   ],
   "source": [
    "df_ny=pd.DataFrame(nyc_of)\n",
    "df_ny.head()"
   ]
  },
  {
   "cell_type": "markdown",
   "id": "7252326a",
   "metadata": {},
   "source": [
    "## Moscu"
   ]
  },
  {
   "cell_type": "code",
   "execution_count": 22,
   "id": "e5d368fa",
   "metadata": {},
   "outputs": [],
   "source": [
    "mos_of = []\n",
    "for i in range(len(m)):\n",
    "    dic2 = {}\n",
    "    dic2[\"Name\"] = m[i][\"name\"]\n",
    "    dic2['number_of_employees']=m[i]['number_of_employees']\n",
    "    \n",
    "    for x in range(len(m[i][\"offices\"])):\n",
    "        if m[i][\"offices\"][x][\"city\"] == \"Moscow\":\n",
    "            dic2[\"City\"] = m[i][\"offices\"][x][\"city\"]\n",
    "            dic2[\"Latitude\"] = m[i][\"offices\"][x][\"latitude\"]\n",
    "            dic2[\"Longitude\"] = m[i][\"offices\"][x][\"longitude\"]\n",
    "            dic2[\"Coordinates\"] = {\"type\": \"Point\", \"coordinates\": [m[i][\"offices\"][x][\"latitude\"], m[i][\"offices\"][x][\"longitude\"]]}   \n",
    "    mos_of.append(dic2)"
   ]
  },
  {
   "cell_type": "code",
   "execution_count": 24,
   "id": "b6cdc356",
   "metadata": {},
   "outputs": [
    {
     "data": {
      "text/html": [
       "<div>\n",
       "<style scoped>\n",
       "    .dataframe tbody tr th:only-of-type {\n",
       "        vertical-align: middle;\n",
       "    }\n",
       "\n",
       "    .dataframe tbody tr th {\n",
       "        vertical-align: top;\n",
       "    }\n",
       "\n",
       "    .dataframe thead th {\n",
       "        text-align: right;\n",
       "    }\n",
       "</style>\n",
       "<table border=\"1\" class=\"dataframe\">\n",
       "  <thead>\n",
       "    <tr style=\"text-align: right;\">\n",
       "      <th></th>\n",
       "      <th>Name</th>\n",
       "      <th>number_of_employees</th>\n",
       "      <th>City</th>\n",
       "      <th>Latitude</th>\n",
       "      <th>Longitude</th>\n",
       "      <th>Coordinates</th>\n",
       "    </tr>\n",
       "  </thead>\n",
       "  <tbody>\n",
       "    <tr>\n",
       "      <th>0</th>\n",
       "      <td>Google</td>\n",
       "      <td>28000.0</td>\n",
       "      <td>Moscow</td>\n",
       "      <td>NaN</td>\n",
       "      <td>NaN</td>\n",
       "      <td>{'type': 'Point', 'coordinates': [None, None]}</td>\n",
       "    </tr>\n",
       "    <tr>\n",
       "      <th>1</th>\n",
       "      <td>AllofMP3</td>\n",
       "      <td>NaN</td>\n",
       "      <td>Moscow</td>\n",
       "      <td>55.755786</td>\n",
       "      <td>37.617633</td>\n",
       "      <td>{'type': 'Point', 'coordinates': [55.755786, 3...</td>\n",
       "    </tr>\n",
       "    <tr>\n",
       "      <th>2</th>\n",
       "      <td>Enforta</td>\n",
       "      <td>NaN</td>\n",
       "      <td>Moscow</td>\n",
       "      <td>NaN</td>\n",
       "      <td>NaN</td>\n",
       "      <td>{'type': 'Point', 'coordinates': [None, None]}</td>\n",
       "    </tr>\n",
       "    <tr>\n",
       "      <th>3</th>\n",
       "      <td>Badoo</td>\n",
       "      <td>250.0</td>\n",
       "      <td>Moscow</td>\n",
       "      <td>NaN</td>\n",
       "      <td>NaN</td>\n",
       "      <td>{'type': 'Point', 'coordinates': [None, None]}</td>\n",
       "    </tr>\n",
       "    <tr>\n",
       "      <th>4</th>\n",
       "      <td>Rutube</td>\n",
       "      <td>80.0</td>\n",
       "      <td>Moscow</td>\n",
       "      <td>52.789450</td>\n",
       "      <td>36.427350</td>\n",
       "      <td>{'type': 'Point', 'coordinates': [52.78945, 36...</td>\n",
       "    </tr>\n",
       "  </tbody>\n",
       "</table>\n",
       "</div>"
      ],
      "text/plain": [
       "       Name  number_of_employees    City   Latitude  Longitude  \\\n",
       "0    Google              28000.0  Moscow        NaN        NaN   \n",
       "1  AllofMP3                  NaN  Moscow  55.755786  37.617633   \n",
       "2   Enforta                  NaN  Moscow        NaN        NaN   \n",
       "3     Badoo                250.0  Moscow        NaN        NaN   \n",
       "4    Rutube                 80.0  Moscow  52.789450  36.427350   \n",
       "\n",
       "                                         Coordinates  \n",
       "0     {'type': 'Point', 'coordinates': [None, None]}  \n",
       "1  {'type': 'Point', 'coordinates': [55.755786, 3...  \n",
       "2     {'type': 'Point', 'coordinates': [None, None]}  \n",
       "3     {'type': 'Point', 'coordinates': [None, None]}  \n",
       "4  {'type': 'Point', 'coordinates': [52.78945, 36...  "
      ]
     },
     "execution_count": 24,
     "metadata": {},
     "output_type": "execute_result"
    }
   ],
   "source": [
    "df_m=pd.DataFrame(mos_of)\n",
    "df_m.head()"
   ]
  },
  {
   "cell_type": "markdown",
   "id": "9d12fedb",
   "metadata": {},
   "source": [
    "## Paris"
   ]
  },
  {
   "cell_type": "code",
   "execution_count": 25,
   "id": "925eb116",
   "metadata": {},
   "outputs": [],
   "source": [
    "p_of = []\n",
    "for i in range(len(p)):\n",
    "    dic3 = {}\n",
    "    dic3[\"Name\"] = p[i][\"name\"]\n",
    "    dic3['number_of_employees']=p[i]['number_of_employees']\n",
    "\n",
    "    for x in range(len(p[i][\"offices\"])):\n",
    "        if p[i][\"offices\"][x][\"city\"] == \"Paris\":\n",
    "            dic3[\"City\"] = p[i][\"offices\"][x][\"city\"]\n",
    "            dic3[\"Latitude\"] = p[i][\"offices\"][x][\"latitude\"]\n",
    "            dic3[\"Longitude\"] = p[i][\"offices\"][x][\"longitude\"]\n",
    "            dic3[\"Coordinates\"] = {\"type\": \"Point\", \"coordinates\": [p[i][\"offices\"][x][\"latitude\"], p[i][\"offices\"][x][\"longitude\"]]}   \n",
    "    p_of.append(dic3)"
   ]
  },
  {
   "cell_type": "code",
   "execution_count": 26,
   "id": "66da141c",
   "metadata": {},
   "outputs": [
    {
     "data": {
      "text/html": [
       "<div>\n",
       "<style scoped>\n",
       "    .dataframe tbody tr th:only-of-type {\n",
       "        vertical-align: middle;\n",
       "    }\n",
       "\n",
       "    .dataframe tbody tr th {\n",
       "        vertical-align: top;\n",
       "    }\n",
       "\n",
       "    .dataframe thead th {\n",
       "        text-align: right;\n",
       "    }\n",
       "</style>\n",
       "<table border=\"1\" class=\"dataframe\">\n",
       "  <thead>\n",
       "    <tr style=\"text-align: right;\">\n",
       "      <th></th>\n",
       "      <th>Name</th>\n",
       "      <th>number_of_employees</th>\n",
       "      <th>City</th>\n",
       "      <th>Latitude</th>\n",
       "      <th>Longitude</th>\n",
       "      <th>Coordinates</th>\n",
       "    </tr>\n",
       "  </thead>\n",
       "  <tbody>\n",
       "    <tr>\n",
       "      <th>0</th>\n",
       "      <td>Google</td>\n",
       "      <td>28000.0</td>\n",
       "      <td>Paris</td>\n",
       "      <td>48.869606</td>\n",
       "      <td>2.332749</td>\n",
       "      <td>{'type': 'Point', 'coordinates': [48.869606, 2...</td>\n",
       "    </tr>\n",
       "    <tr>\n",
       "      <th>1</th>\n",
       "      <td>Zlio</td>\n",
       "      <td>NaN</td>\n",
       "      <td>Paris</td>\n",
       "      <td>48.862825</td>\n",
       "      <td>2.381836</td>\n",
       "      <td>{'type': 'Point', 'coordinates': [48.862825, 2...</td>\n",
       "    </tr>\n",
       "    <tr>\n",
       "      <th>2</th>\n",
       "      <td>Dailymotion</td>\n",
       "      <td>120.0</td>\n",
       "      <td>Paris</td>\n",
       "      <td>NaN</td>\n",
       "      <td>NaN</td>\n",
       "      <td>{'type': 'Point', 'coordinates': [None, None]}</td>\n",
       "    </tr>\n",
       "    <tr>\n",
       "      <th>3</th>\n",
       "      <td>Netvibes</td>\n",
       "      <td>35.0</td>\n",
       "      <td>Paris</td>\n",
       "      <td>48.870806</td>\n",
       "      <td>2.346680</td>\n",
       "      <td>{'type': 'Point', 'coordinates': [48.870806, 2...</td>\n",
       "    </tr>\n",
       "    <tr>\n",
       "      <th>4</th>\n",
       "      <td>TVtrip</td>\n",
       "      <td>NaN</td>\n",
       "      <td>Paris</td>\n",
       "      <td>48.856667</td>\n",
       "      <td>2.350987</td>\n",
       "      <td>{'type': 'Point', 'coordinates': [48.856667, 2...</td>\n",
       "    </tr>\n",
       "  </tbody>\n",
       "</table>\n",
       "</div>"
      ],
      "text/plain": [
       "          Name  number_of_employees   City   Latitude  Longitude  \\\n",
       "0       Google              28000.0  Paris  48.869606   2.332749   \n",
       "1         Zlio                  NaN  Paris  48.862825   2.381836   \n",
       "2  Dailymotion                120.0  Paris        NaN        NaN   \n",
       "3     Netvibes                 35.0  Paris  48.870806   2.346680   \n",
       "4       TVtrip                  NaN  Paris  48.856667   2.350987   \n",
       "\n",
       "                                         Coordinates  \n",
       "0  {'type': 'Point', 'coordinates': [48.869606, 2...  \n",
       "1  {'type': 'Point', 'coordinates': [48.862825, 2...  \n",
       "2     {'type': 'Point', 'coordinates': [None, None]}  \n",
       "3  {'type': 'Point', 'coordinates': [48.870806, 2...  \n",
       "4  {'type': 'Point', 'coordinates': [48.856667, 2...  "
      ]
     },
     "execution_count": 26,
     "metadata": {},
     "output_type": "execute_result"
    }
   ],
   "source": [
    "df_p=pd.DataFrame(p_of)\n",
    "df_p.head()"
   ]
  },
  {
   "cell_type": "markdown",
   "id": "b829c970",
   "metadata": {},
   "source": [
    "## Dataframes cleaning"
   ]
  },
  {
   "cell_type": "markdown",
   "id": "cd31a264",
   "metadata": {},
   "source": [
    "As I need the coordinates to study the placements I clean all the null values from the dataframes"
   ]
  },
  {
   "cell_type": "code",
   "execution_count": 28,
   "id": "bd871837",
   "metadata": {},
   "outputs": [],
   "source": [
    "df_ny.dropna(how=\"any\", inplace=True)\n",
    "df_p.dropna(how=\"any\", inplace=True)\n",
    "df_m.dropna(how=\"any\", inplace=True)"
   ]
  },
  {
   "cell_type": "markdown",
   "id": "31d2468e",
   "metadata": {},
   "source": [
    "My company has 87 employees, then I need a place where they could fit: I filter by the companies with a similar number of employees."
   ]
  },
  {
   "cell_type": "code",
   "execution_count": 29,
   "id": "1ef50a45",
   "metadata": {},
   "outputs": [],
   "source": [
    "todo= pd.concat([df_ny,df_p,df_m])"
   ]
  },
  {
   "cell_type": "code",
   "execution_count": 30,
   "id": "a7defba1",
   "metadata": {},
   "outputs": [
    {
     "data": {
      "text/plain": [
       "Name                   0\n",
       "number_of_employees    0\n",
       "City                   0\n",
       "Latitude               0\n",
       "Longitude              0\n",
       "Coordinates            0\n",
       "dtype: int64"
      ]
     },
     "execution_count": 30,
     "metadata": {},
     "output_type": "execute_result"
    }
   ],
   "source": [
    "todo.isna().sum()"
   ]
  },
  {
   "cell_type": "code",
   "execution_count": 31,
   "id": "898da455",
   "metadata": {},
   "outputs": [],
   "source": [
    "filtrado = todo.loc[todo[\"number_of_employees\"]>87]"
   ]
  },
  {
   "cell_type": "code",
   "execution_count": 32,
   "id": "ba97ed45",
   "metadata": {},
   "outputs": [],
   "source": [
    "final=filtrado.loc[filtrado[\"number_of_employees\"]<=250]"
   ]
  },
  {
   "cell_type": "code",
   "execution_count": 33,
   "id": "820cf61f",
   "metadata": {},
   "outputs": [
    {
     "data": {
      "text/plain": [
       "(62, 6)"
      ]
     },
     "execution_count": 33,
     "metadata": {},
     "output_type": "execute_result"
    }
   ],
   "source": [
    "final.shape"
   ]
  },
  {
   "cell_type": "code",
   "execution_count": 34,
   "id": "a5633c58",
   "metadata": {},
   "outputs": [],
   "source": [
    "points=final.sample(n=3,weights='number_of_employees')"
   ]
  },
  {
   "cell_type": "markdown",
   "id": "61b0fe42",
   "metadata": {},
   "source": [
    "The enterprises selected ramdomly from the clean data frames are Solairedirect (Paris), Buka (Moscow), and Networked Insights(New York)"
   ]
  },
  {
   "cell_type": "code",
   "execution_count": 39,
   "id": "584f63c3",
   "metadata": {},
   "outputs": [],
   "source": [
    "coor_Paris=final.loc[final[\"Name\"]==\"Solairedirect\"] #isolation of the selected enterprises coordinates"
   ]
  },
  {
   "cell_type": "code",
   "execution_count": 40,
   "id": "5adc90c6",
   "metadata": {},
   "outputs": [
    {
     "data": {
      "text/html": [
       "<div>\n",
       "<style scoped>\n",
       "    .dataframe tbody tr th:only-of-type {\n",
       "        vertical-align: middle;\n",
       "    }\n",
       "\n",
       "    .dataframe tbody tr th {\n",
       "        vertical-align: top;\n",
       "    }\n",
       "\n",
       "    .dataframe thead th {\n",
       "        text-align: right;\n",
       "    }\n",
       "</style>\n",
       "<table border=\"1\" class=\"dataframe\">\n",
       "  <thead>\n",
       "    <tr style=\"text-align: right;\">\n",
       "      <th></th>\n",
       "      <th>Name</th>\n",
       "      <th>number_of_employees</th>\n",
       "      <th>City</th>\n",
       "      <th>Latitude</th>\n",
       "      <th>Longitude</th>\n",
       "      <th>Coordinates</th>\n",
       "    </tr>\n",
       "  </thead>\n",
       "  <tbody>\n",
       "    <tr>\n",
       "      <th>11</th>\n",
       "      <td>BUKA</td>\n",
       "      <td>250.0</td>\n",
       "      <td>Moscow</td>\n",
       "      <td>55.755786</td>\n",
       "      <td>37.617633</td>\n",
       "      <td>{'type': 'Point', 'coordinates': [55.755786, 3...</td>\n",
       "    </tr>\n",
       "  </tbody>\n",
       "</table>\n",
       "</div>"
      ],
      "text/plain": [
       "    Name  number_of_employees    City   Latitude  Longitude  \\\n",
       "11  BUKA                250.0  Moscow  55.755786  37.617633   \n",
       "\n",
       "                                          Coordinates  \n",
       "11  {'type': 'Point', 'coordinates': [55.755786, 3...  "
      ]
     },
     "execution_count": 40,
     "metadata": {},
     "output_type": "execute_result"
    }
   ],
   "source": [
    "coor_Mos=final.loc[final[\"Name\"]==\"BUKA\"]\n",
    "coor_Mos"
   ]
  },
  {
   "cell_type": "code",
   "execution_count": 74,
   "id": "b178e04d",
   "metadata": {},
   "outputs": [
    {
     "data": {
      "text/html": [
       "<div>\n",
       "<style scoped>\n",
       "    .dataframe tbody tr th:only-of-type {\n",
       "        vertical-align: middle;\n",
       "    }\n",
       "\n",
       "    .dataframe tbody tr th {\n",
       "        vertical-align: top;\n",
       "    }\n",
       "\n",
       "    .dataframe thead th {\n",
       "        text-align: right;\n",
       "    }\n",
       "</style>\n",
       "<table border=\"1\" class=\"dataframe\">\n",
       "  <thead>\n",
       "    <tr style=\"text-align: right;\">\n",
       "      <th></th>\n",
       "      <th>Name</th>\n",
       "      <th>number_of_employees</th>\n",
       "      <th>City</th>\n",
       "      <th>Latitude</th>\n",
       "      <th>Longitude</th>\n",
       "      <th>Coordinates</th>\n",
       "    </tr>\n",
       "  </thead>\n",
       "  <tbody>\n",
       "    <tr>\n",
       "      <th>186</th>\n",
       "      <td>Networked Insights</td>\n",
       "      <td>130.0</td>\n",
       "      <td>New York</td>\n",
       "      <td>40.745559</td>\n",
       "      <td>-73.986243</td>\n",
       "      <td>{'type': 'Point', 'coordinates': [40.745559, -...</td>\n",
       "    </tr>\n",
       "  </tbody>\n",
       "</table>\n",
       "</div>"
      ],
      "text/plain": [
       "                   Name  number_of_employees      City   Latitude  Longitude  \\\n",
       "186  Networked Insights                130.0  New York  40.745559 -73.986243   \n",
       "\n",
       "                                           Coordinates  \n",
       "186  {'type': 'Point', 'coordinates': [40.745559, -...  "
      ]
     },
     "execution_count": 74,
     "metadata": {},
     "output_type": "execute_result"
    }
   ],
   "source": [
    "coor_NY=final.loc[final[\"Name\"]==\"Networked Insights\"]\n",
    "coor_NY"
   ]
  },
  {
   "cell_type": "markdown",
   "id": "12f5c3b4",
   "metadata": {},
   "source": [
    "# Foursquare API"
   ]
  },
  {
   "cell_type": "markdown",
   "id": "b7dd51d0",
   "metadata": {},
   "source": [
    "The following are the requirements of the staff for the new place:\n",
    "- Designers like to go to design talks and share knowledge. There must be some nearby companies that also do design.\n",
    "- 30% of the company staff have at least 1 child.\n",
    "- Developers like to be near successful tech startups that have raised at least 1 Million dollars.\n",
    "- Executives like Starbucks A LOT. Ensure there's a starbucks not too far.\n",
    "- Account managers need to travel a lot.\n",
    "- Everyone in the company is between 25 and 40, give them some place to go party.\n",
    "- The CEO is vegan.\n",
    "- If you want to make the maintenance guy happy, a basketball stadium must be around 10 Km.\n",
    "- The office dog—\"Dobby\" needs a hairdresser every month. Ensure there's one not too far away."
   ]
  },
  {
   "cell_type": "markdown",
   "id": "711737d7",
   "metadata": {},
   "source": [
    "For being able to evaluate the optimal location, the requirements are given values according to their importance."
   ]
  },
  {
   "cell_type": "code",
   "execution_count": 42,
   "id": "5c7d029c",
   "metadata": {},
   "outputs": [
    {
     "data": {
      "text/plain": [
       "'basketball'"
      ]
     },
     "execution_count": 42,
     "metadata": {},
     "output_type": "execute_result"
    }
   ],
   "source": [
    "design_comp=10\n",
    "kinder=45\n",
    "starbucks=20\n",
    "station=30\n",
    "bars=50\n",
    "vegan=20\n",
    "basket=10\n",
    "dobby=25\n",
    "\"basketball\""
   ]
  },
  {
   "cell_type": "code",
   "execution_count": 43,
   "id": "efa66bdd",
   "metadata": {},
   "outputs": [
    {
     "data": {
      "text/plain": [
       "True"
      ]
     },
     "execution_count": 43,
     "metadata": {},
     "output_type": "execute_result"
    }
   ],
   "source": [
    "load_dotenv()"
   ]
  },
  {
   "cell_type": "code",
   "execution_count": 44,
   "id": "d4333ab4",
   "metadata": {},
   "outputs": [],
   "source": [
    "client_id= os.getenv(\"client\")\n",
    "secret= os.getenv(\"secret\")"
   ]
  },
  {
   "cell_type": "code",
   "execution_count": 45,
   "id": "6c9bfb68",
   "metadata": {},
   "outputs": [
    {
     "data": {
      "text/plain": [
       "48.8745951"
      ]
     },
     "execution_count": 45,
     "metadata": {},
     "output_type": "execute_result"
    }
   ],
   "source": [
    "pd.Series(coor_Paris[\"Latitude\"]).values[0]"
   ]
  },
  {
   "cell_type": "code",
   "execution_count": 46,
   "id": "a3c33741",
   "metadata": {},
   "outputs": [
    {
     "data": {
      "text/plain": [
       "'48.8745951, 2.3210737'"
      ]
     },
     "execution_count": 46,
     "metadata": {},
     "output_type": "execute_result"
    }
   ],
   "source": [
    "p_coor=f\"{pd.Series(coor_Paris['Latitude']).values[0]}, {pd.Series(coor_Paris['Longitude']).values[0]}\"\n",
    "p_coor"
   ]
  },
  {
   "cell_type": "code",
   "execution_count": 47,
   "id": "5b04aa5e",
   "metadata": {},
   "outputs": [
    {
     "data": {
      "text/plain": [
       "'55.755786, 37.617633'"
      ]
     },
     "execution_count": 47,
     "metadata": {},
     "output_type": "execute_result"
    }
   ],
   "source": [
    "m_coor=f\"{pd.Series(coor_Mos['Latitude']).values[0]}, {pd.Series(coor_Mos['Longitude']).values[0]}\"\n",
    "m_coor"
   ]
  },
  {
   "cell_type": "code",
   "execution_count": 48,
   "id": "15fae1b9",
   "metadata": {},
   "outputs": [
    {
     "data": {
      "text/plain": [
       "'40.745559, -73.986243'"
      ]
     },
     "execution_count": 48,
     "metadata": {},
     "output_type": "execute_result"
    }
   ],
   "source": [
    "ny_coor=f\"{pd.Series(coor_NY['Latitude']).values[0]}, {pd.Series(coor_NY['Longitude']).values[0]}\"\n",
    "ny_coor"
   ]
  },
  {
   "cell_type": "code",
   "execution_count": 49,
   "id": "1060297f",
   "metadata": {},
   "outputs": [],
   "source": [
    "url_fs = 'https://api.foursquare.com/v2/venues/search'"
   ]
  },
  {
   "cell_type": "markdown",
   "id": "469daab3",
   "metadata": {},
   "source": [
    "## Paris"
   ]
  },
  {
   "cell_type": "code",
   "execution_count": 50,
   "id": "a08ed3ed",
   "metadata": {},
   "outputs": [],
   "source": [
    "lista=[\"web design company\",\"kindergarten\",\"starbucks\",\"bars\",\"train station\",\"vegan restaurant\",\"veterinary\"]"
   ]
  },
  {
   "cell_type": "code",
   "execution_count": 51,
   "id": "5254cdec",
   "metadata": {},
   "outputs": [],
   "source": [
    "listab=[\"web design company\",\"kindergarten\",\"starbucks\",\"bars\",\"train station\",\"vegan restaurant\",\"veterinary\",\"basketball court\"]"
   ]
  },
  {
   "cell_type": "code",
   "execution_count": 52,
   "id": "c23f9565",
   "metadata": {},
   "outputs": [],
   "source": [
    "dic_paris={}\n",
    "for i in lista:\n",
    "    \n",
    "    parametros = {\n",
    "    \"client_id\": client_id,\n",
    "    \"client_secret\": secret,\n",
    "    \"radius\":2000,\n",
    "    \"v\": \"20211115\",\n",
    "    \"limit\": 200,\n",
    "    \"ll\": p_coor,\n",
    "    \"query\": i}\n",
    "    x = requests.get(url= url_fs, params = parametros).json()\n",
    "    dic_paris[i]=x[\"response\"][\"venues\"]\n",
    "    \n",
    "    "
   ]
  },
  {
   "cell_type": "code",
   "execution_count": 53,
   "id": "35d7c381",
   "metadata": {},
   "outputs": [],
   "source": [
    "parametros = {\"client_id\": client_id,\n",
    "    \"client_secret\": secret,\n",
    "    \"radius\":10000,\n",
    "    \"v\": \"20211115\",\n",
    "    \"limit\": 200,\n",
    "    \"ll\": p_coor,\n",
    "    \"query\": i}\n",
    "p = requests.get(url= url_fs, params = parametros).json()\n",
    "dic_paris[\"basketball court\"]=p[\"response\"][\"venues\"]"
   ]
  },
  {
   "cell_type": "code",
   "execution_count": 54,
   "id": "e2bd8d6b",
   "metadata": {},
   "outputs": [],
   "source": [
    "p_all=[]\n",
    "for a in listab:\n",
    "    for i in range(len(dic_paris[a])):\n",
    "        dicny={}\n",
    "        dicny[\"city\"]=\"Paris\"\n",
    "        dicny[\"category\"]=a\n",
    "        dicny[\"Name\"]=dic_paris[a][i][\"name\"]\n",
    "        dicny[\"lat\"]=dic_paris[a][i][\"location\"][\"lat\"]\n",
    "        dicny[\"lng\"]=dic_paris[a][i][\"location\"][\"lng\"]\n",
    "        dicny[\"points\"]={\"type\": \"Point\", \"coordinates\": [dic_paris[a][i][\"location\"][\"lat\"],dic_paris[a][i][\"location\"][\"lng\"]]}\n",
    "        dicny[\"points-lng-lat\"]={\"type\": \"Point\", \"coordinates\": [dic_paris[a][i][\"location\"][\"lng\"],dic_paris[a][i][\"location\"][\"lat\"]]}\n",
    "        p_all.append(dicny)"
   ]
  },
  {
   "cell_type": "code",
   "execution_count": 55,
   "id": "210a76fc",
   "metadata": {},
   "outputs": [],
   "source": [
    "paris=pd.DataFrame(p_all)\n",
    "paris = gpd.GeoDataFrame(paris, geometry=gpd.points_from_xy(paris.lng, paris.lat))\n",
    "paris.to_csv(\"data/paris.csv\")"
   ]
  },
  {
   "cell_type": "markdown",
   "id": "b8fc88e4",
   "metadata": {},
   "source": [
    "## Moscow"
   ]
  },
  {
   "cell_type": "code",
   "execution_count": 56,
   "id": "346e586e",
   "metadata": {},
   "outputs": [],
   "source": [
    "dic_moscow={}\n",
    "for i in lista:\n",
    "    \n",
    "    parametros = {\n",
    "    \"client_id\": client_id,\n",
    "    \"client_secret\": secret,\n",
    "    \"radius\":2000,\n",
    "    \"v\": \"20211115\",\n",
    "    \"limit\": 200,\n",
    "    \"ll\": m_coor,\n",
    "    \"query\": i}\n",
    "    x = requests.get(url= url_fs, params = parametros).json()\n",
    "    dic_moscow[i]= x[\"response\"][\"venues\"]\n",
    "    "
   ]
  },
  {
   "cell_type": "code",
   "execution_count": 57,
   "id": "95635c49",
   "metadata": {},
   "outputs": [],
   "source": [
    "parametros = {\"client_id\": client_id,\n",
    "    \"client_secret\": secret,\n",
    "    \"radius\":10000,\n",
    "    \"v\": \"20211115\",\n",
    "    \"limit\": 200,\n",
    "    \"ll\": m_coor,\n",
    "    \"query\": 'basketball court'}\n",
    "m = requests.get(url= url_fs, params = parametros).json()\n",
    "dic_moscow[\"basketball court\"]=m[\"response\"][\"venues\"]"
   ]
  },
  {
   "cell_type": "code",
   "execution_count": 58,
   "id": "4c104bbd",
   "metadata": {},
   "outputs": [],
   "source": [
    "mk_all=[]\n",
    "for a in listab:\n",
    "    for i in range(len(dic_moscow[a])):\n",
    "        dicny={}\n",
    "        dicny[\"city\"]=\"Moskow\"\n",
    "        dicny[\"category\"]=a\n",
    "        dicny[\"Name\"]=dic_moscow[a][i][\"name\"]\n",
    "        dicny[\"lat\"]=dic_moscow[a][i][\"location\"][\"lat\"]\n",
    "        dicny[\"lng\"]=dic_moscow[a][i][\"location\"][\"lng\"]\n",
    "        dicny[\"points\"]={\"type\": \"Point\", \"coordinates\": [dic_moscow[a][i][\"location\"][\"lat\"],dic_moscow[a][i][\"location\"][\"lng\"]]}\n",
    "        dicny[\"points-lng-lat\"]={\"type\": \"Point\", \"coordinates\": [dic_moscow[a][i][\"location\"][\"lng\"],dic_moscow[a][i][\"location\"][\"lat\"]]}\n",
    "        mk_all.append(dicny)"
   ]
  },
  {
   "cell_type": "code",
   "execution_count": 59,
   "id": "26e308f9",
   "metadata": {},
   "outputs": [],
   "source": [
    "msk_all=pd.DataFrame(mk_all)\n",
    "msk_all = gpd.GeoDataFrame(msk_all, geometry=gpd.points_from_xy(msk_all.lng, msk_all.lat))"
   ]
  },
  {
   "cell_type": "code",
   "execution_count": 60,
   "id": "a7c73a16",
   "metadata": {},
   "outputs": [],
   "source": [
    "msk_all.to_csv(\"data/moscu.csv\")"
   ]
  },
  {
   "cell_type": "markdown",
   "id": "d4c1ae14",
   "metadata": {},
   "source": [
    "## New York"
   ]
  },
  {
   "cell_type": "code",
   "execution_count": 61,
   "id": "064fcbf2",
   "metadata": {},
   "outputs": [],
   "source": [
    "dic_ny={}\n",
    "for i in lista:\n",
    "    \n",
    "    parametros = {\n",
    "    \"client_id\": client_id,\n",
    "    \"client_secret\": secret,\n",
    "    \"radius\":2000,\n",
    "    \"v\": \"20211115\",\n",
    "    \"limit\": 200,\n",
    "    \"ll\": ny_coor,\n",
    "    \"query\": i}\n",
    "    x = requests.get(url= url_fs, params = parametros).json()\n",
    "    dic_ny[i]=x[\"response\"][\"venues\"]\n",
    "    "
   ]
  },
  {
   "cell_type": "code",
   "execution_count": 62,
   "id": "cb255ec7",
   "metadata": {},
   "outputs": [],
   "source": [
    "parametros = {\"client_id\": client_id,\n",
    "    \"client_secret\": secret,\n",
    "    \"radius\":10000,\n",
    "    \"v\": \"20211115\",\n",
    "    \"limit\": 200,\n",
    "    \"ll\": ny_coor,\n",
    "    \"query\": \"basketball court\"}\n",
    "x = requests.get(url= url_fs, params = parametros).json()\n",
    "dic_ny[\"basketball court\"]=x[\"response\"][\"venues\"]"
   ]
  },
  {
   "cell_type": "code",
   "execution_count": 63,
   "id": "fd2a2ce3",
   "metadata": {},
   "outputs": [],
   "source": [
    "pd_ny=pd.DataFrame.from_dict(dic_ny, orient='index')\n"
   ]
  },
  {
   "cell_type": "code",
   "execution_count": 64,
   "id": "593e5a8d",
   "metadata": {},
   "outputs": [
    {
     "data": {
      "text/plain": [
       "web design company    27\n",
       "kindergarten           0\n",
       "starbucks             50\n",
       "bars                  24\n",
       "train station         50\n",
       "vegan restaurant      50\n",
       "veterinary            22\n",
       "basketball court      50\n",
       "dtype: int64"
      ]
     },
     "execution_count": 64,
     "metadata": {},
     "output_type": "execute_result"
    }
   ],
   "source": [
    "ny2=pd_ny.transpose()\n",
    "ny2.notnull().sum()"
   ]
  },
  {
   "cell_type": "code",
   "execution_count": 65,
   "id": "dc88acc9",
   "metadata": {},
   "outputs": [],
   "source": [
    "ny_b=[]\n",
    "for a in listab:\n",
    "    for i in range(len(dic_ny[a])):\n",
    "        dicny={}\n",
    "        dicny[\"city\"]=\"New York\"\n",
    "        dicny[\"category\"]=a\n",
    "        dicny[\"Name\"]=dic_ny[a][i][\"name\"]\n",
    "        dicny[\"lat\"]=dic_ny[a][i][\"location\"][\"lat\"]\n",
    "        dicny[\"lng\"]=dic_ny[a][i][\"location\"][\"lng\"]\n",
    "        dicny[\"points\"]={\"type\": \"Point\", \"coordinates\": [dic_ny[a][i][\"location\"][\"lat\"],dic_ny[a][i][\"location\"][\"lng\"]]}\n",
    "        dicny[\"points-lng-lat\"]={\"type\": \"Point\", \"coordinates\": [dic_ny[a][i][\"location\"][\"lng\"],dic_ny[a][i][\"location\"][\"lat\"]]}\n",
    "        ny_b.append(dicny)"
   ]
  },
  {
   "cell_type": "code",
   "execution_count": 66,
   "id": "f1b8b898",
   "metadata": {},
   "outputs": [],
   "source": [
    "ny6=pd.DataFrame(ny_b)\n",
    "ny6 = gpd.GeoDataFrame(ny6, geometry=gpd.points_from_xy(ny6.lng, ny6.lat))"
   ]
  },
  {
   "cell_type": "code",
   "execution_count": 67,
   "id": "8259b33f",
   "metadata": {},
   "outputs": [],
   "source": [
    "ny6.to_csv(\"data/newyork.csv\")"
   ]
  },
  {
   "cell_type": "markdown",
   "id": "b9bd158a",
   "metadata": {},
   "source": [
    "# Geoqueries"
   ]
  },
  {
   "cell_type": "code",
   "execution_count": 68,
   "id": "40c3e7f2",
   "metadata": {},
   "outputs": [
    {
     "data": {
      "text/plain": [
       "Database(MongoClient(host=['localhost:27017'], document_class=dict, tz_aware=False, connect=True), 'ironhack')"
      ]
     },
     "execution_count": 68,
     "metadata": {},
     "output_type": "execute_result"
    }
   ],
   "source": [
    "client = MongoClient(\"localhost:27017\")\n",
    "db = client.get_database(\"ironhack\")\n",
    "db"
   ]
  },
  {
   "cell_type": "code",
   "execution_count": 69,
   "id": "e9f695d4",
   "metadata": {},
   "outputs": [],
   "source": [
    "moscu = db.get_collection(\"moscu\")\n",
    "ny = db.get_collection(\"newyork\")\n",
    "paris = db.get_collection(\"paris\")"
   ]
  },
  {
   "cell_type": "code",
   "execution_count": 73,
   "id": "aeeef532",
   "metadata": {},
   "outputs": [
    {
     "data": {
      "text/plain": [
       "'geometry_2dsphere'"
      ]
     },
     "execution_count": 73,
     "metadata": {},
     "output_type": "execute_result"
    }
   ],
   "source": [
    "moscu.geometry.create_index([(\"geometry\", GEOSPHERE)])\n"
   ]
  },
  {
   "cell_type": "code",
   "execution_count": 75,
   "id": "a193c6a2",
   "metadata": {},
   "outputs": [
    {
     "data": {
      "text/plain": [
       "'55.755786, 37.617633'"
      ]
     },
     "execution_count": 75,
     "metadata": {},
     "output_type": "execute_result"
    }
   ],
   "source": [
    "m_coor"
   ]
  },
  {
   "cell_type": "code",
   "execution_count": 76,
   "id": "19ee526d",
   "metadata": {},
   "outputs": [
    {
     "data": {
      "text/plain": [
       "['web design company',\n",
       " 'kindergarten',\n",
       " 'starbucks',\n",
       " 'bars',\n",
       " 'train station',\n",
       " 'vegan restaurant',\n",
       " 'veterinary',\n",
       " 'basketball court']"
      ]
     },
     "execution_count": 76,
     "metadata": {},
     "output_type": "execute_result"
    }
   ],
   "source": [
    "listab"
   ]
  },
  {
   "cell_type": "code",
   "execution_count": 83,
   "id": "b622cb6f",
   "metadata": {},
   "outputs": [
    {
     "ename": "NameError",
     "evalue": "name 'near' is not defined",
     "output_type": "error",
     "traceback": [
      "\u001b[0;31m---------------------------------------------------------------------------\u001b[0m",
      "\u001b[0;31mNameError\u001b[0m                                 Traceback (most recent call last)",
      "\u001b[0;32m<ipython-input-83-af70aa1e7ecb>\u001b[0m in \u001b[0;36m<module>\u001b[0;34m\u001b[0m\n\u001b[1;32m      2\u001b[0m    {\n\u001b[1;32m      3\u001b[0m      '$near': {\n\u001b[0;32m----> 4\u001b[0;31m         \u001b[0mnear\u001b[0m\u001b[0;34m:\u001b[0m \u001b[0;34m{\u001b[0m \u001b[0mtype\u001b[0m\u001b[0;34m:\u001b[0m \u001b[0;34m\"Point\"\u001b[0m\u001b[0;34m,\u001b[0m \u001b[0mcoordinates\u001b[0m\u001b[0;34m:\u001b[0m \u001b[0;34m[\u001b[0m\u001b[0mm_coor\u001b[0m\u001b[0;34m]\u001b[0m \u001b[0;34m}\u001b[0m\u001b[0;34m,\u001b[0m\u001b[0;34m\u001b[0m\u001b[0;34m\u001b[0m\u001b[0m\n\u001b[0m\u001b[1;32m      5\u001b[0m         \u001b[0mkey\u001b[0m\u001b[0;34m:\u001b[0m \u001b[0;34m\"points\"\u001b[0m\u001b[0;34m,\u001b[0m\u001b[0;34m\u001b[0m\u001b[0;34m\u001b[0m\u001b[0m\n\u001b[1;32m      6\u001b[0m         \u001b[0mdistanceField\u001b[0m\u001b[0;34m:\u001b[0m \u001b[0;34m\"dist.calculated\"\u001b[0m\u001b[0;34m,\u001b[0m\u001b[0;34m\u001b[0m\u001b[0;34m\u001b[0m\u001b[0m\n",
      "\u001b[0;31mNameError\u001b[0m: name 'near' is not defined"
     ]
    }
   ],
   "source": [
    "moscu.geometry.aggregate([\n",
    "   {\n",
    "     '$near': {\n",
    "        near: { type: \"Point\", coordinates: [m_coor] },\n",
    "        key: \"points\",\n",
    "        distanceField: \"dist.calculated\",\n",
    "        query: { \"category\": \"starbucks\" }}}])"
   ]
  },
  {
   "cell_type": "code",
   "execution_count": 93,
   "id": "cc462c10",
   "metadata": {},
   "outputs": [],
   "source": [
    "query={'near':[m_coor], 'distanceField': \"dist.calculated\",'query': { \"category\": \"starbucks\" }}"
   ]
  },
  {
   "cell_type": "code",
   "execution_count": null,
   "id": "e80c8a14",
   "metadata": {},
   "outputs": [],
   "source": [
    "moscu[0][\"location\"][\"coordinates\"][::-1]"
   ]
  },
  {
   "cell_type": "code",
   "execution_count": 104,
   "id": "ce189321",
   "metadata": {},
   "outputs": [
    {
     "ename": "TypeError",
     "evalue": "'Collection' object is not iterable",
     "output_type": "error",
     "traceback": [
      "\u001b[0;31m---------------------------------------------------------------------------\u001b[0m",
      "\u001b[0;31mTypeError\u001b[0m                                 Traceback (most recent call last)",
      "\u001b[0;32m<ipython-input-104-6c33c27a8397>\u001b[0m in \u001b[0;36m<module>\u001b[0;34m\u001b[0m\n\u001b[0;32m----> 1\u001b[0;31m \u001b[0mmoscu2\u001b[0m\u001b[0;34m=\u001b[0m\u001b[0mpd\u001b[0m\u001b[0;34m.\u001b[0m\u001b[0mDataFrame\u001b[0m\u001b[0;34m(\u001b[0m\u001b[0mmoscu\u001b[0m\u001b[0;34m)\u001b[0m\u001b[0;34m\u001b[0m\u001b[0;34m\u001b[0m\u001b[0m\n\u001b[0m",
      "\u001b[0;32m~/.local/lib/python3.8/site-packages/pandas/core/frame.py\u001b[0m in \u001b[0;36m__init__\u001b[0;34m(self, data, index, columns, dtype, copy)\u001b[0m\n\u001b[1;32m    682\u001b[0m         \u001b[0;32melif\u001b[0m \u001b[0mis_list_like\u001b[0m\u001b[0;34m(\u001b[0m\u001b[0mdata\u001b[0m\u001b[0;34m)\u001b[0m\u001b[0;34m:\u001b[0m\u001b[0;34m\u001b[0m\u001b[0;34m\u001b[0m\u001b[0m\n\u001b[1;32m    683\u001b[0m             \u001b[0;32mif\u001b[0m \u001b[0;32mnot\u001b[0m \u001b[0misinstance\u001b[0m\u001b[0;34m(\u001b[0m\u001b[0mdata\u001b[0m\u001b[0;34m,\u001b[0m \u001b[0;34m(\u001b[0m\u001b[0mabc\u001b[0m\u001b[0;34m.\u001b[0m\u001b[0mSequence\u001b[0m\u001b[0;34m,\u001b[0m \u001b[0mExtensionArray\u001b[0m\u001b[0;34m)\u001b[0m\u001b[0;34m)\u001b[0m\u001b[0;34m:\u001b[0m\u001b[0;34m\u001b[0m\u001b[0;34m\u001b[0m\u001b[0m\n\u001b[0;32m--> 684\u001b[0;31m                 \u001b[0mdata\u001b[0m \u001b[0;34m=\u001b[0m \u001b[0mlist\u001b[0m\u001b[0;34m(\u001b[0m\u001b[0mdata\u001b[0m\u001b[0;34m)\u001b[0m\u001b[0;34m\u001b[0m\u001b[0;34m\u001b[0m\u001b[0m\n\u001b[0m\u001b[1;32m    685\u001b[0m             \u001b[0;32mif\u001b[0m \u001b[0mlen\u001b[0m\u001b[0;34m(\u001b[0m\u001b[0mdata\u001b[0m\u001b[0;34m)\u001b[0m \u001b[0;34m>\u001b[0m \u001b[0;36m0\u001b[0m\u001b[0;34m:\u001b[0m\u001b[0;34m\u001b[0m\u001b[0;34m\u001b[0m\u001b[0m\n\u001b[1;32m    686\u001b[0m                 \u001b[0;32mif\u001b[0m \u001b[0mis_dataclass\u001b[0m\u001b[0;34m(\u001b[0m\u001b[0mdata\u001b[0m\u001b[0;34m[\u001b[0m\u001b[0;36m0\u001b[0m\u001b[0;34m]\u001b[0m\u001b[0;34m)\u001b[0m\u001b[0;34m:\u001b[0m\u001b[0;34m\u001b[0m\u001b[0;34m\u001b[0m\u001b[0m\n",
      "\u001b[0;32m~/anaconda3/envs/ironhack/lib/python3.8/site-packages/pymongo/collection.py\u001b[0m in \u001b[0;36m__next__\u001b[0;34m(self)\u001b[0m\n\u001b[1;32m   3476\u001b[0m \u001b[0;34m\u001b[0m\u001b[0m\n\u001b[1;32m   3477\u001b[0m     \u001b[0;32mdef\u001b[0m \u001b[0m__next__\u001b[0m\u001b[0;34m(\u001b[0m\u001b[0mself\u001b[0m\u001b[0;34m)\u001b[0m\u001b[0;34m:\u001b[0m\u001b[0;34m\u001b[0m\u001b[0;34m\u001b[0m\u001b[0m\n\u001b[0;32m-> 3478\u001b[0;31m         \u001b[0;32mraise\u001b[0m \u001b[0mTypeError\u001b[0m\u001b[0;34m(\u001b[0m\u001b[0;34m\"'Collection' object is not iterable\"\u001b[0m\u001b[0;34m)\u001b[0m\u001b[0;34m\u001b[0m\u001b[0;34m\u001b[0m\u001b[0m\n\u001b[0m\u001b[1;32m   3479\u001b[0m \u001b[0;34m\u001b[0m\u001b[0m\n\u001b[1;32m   3480\u001b[0m     \u001b[0mnext\u001b[0m \u001b[0;34m=\u001b[0m \u001b[0m__next__\u001b[0m\u001b[0;34m\u001b[0m\u001b[0;34m\u001b[0m\u001b[0m\n",
      "\u001b[0;31mTypeError\u001b[0m: 'Collection' object is not iterable"
     ]
    }
   ],
   "source": [
    "moscu2=pd.DataFrame(moscu)"
   ]
  },
  {
   "cell_type": "code",
   "execution_count": 102,
   "id": "ad9f405d",
   "metadata": {},
   "outputs": [
    {
     "ename": "TypeError",
     "evalue": "pipeline must be a list",
     "output_type": "error",
     "traceback": [
      "\u001b[0;31m---------------------------------------------------------------------------\u001b[0m",
      "\u001b[0;31mTypeError\u001b[0m                                 Traceback (most recent call last)",
      "\u001b[0;32m<ipython-input-102-24537ca3f87a>\u001b[0m in \u001b[0;36m<module>\u001b[0;34m\u001b[0m\n\u001b[0;32m----> 1\u001b[0;31m \u001b[0mdb\u001b[0m\u001b[0;34m.\u001b[0m\u001b[0mmoscu\u001b[0m\u001b[0;34m.\u001b[0m\u001b[0maggregate\u001b[0m\u001b[0;34m(\u001b[0m\u001b[0mquery\u001b[0m\u001b[0;34m)\u001b[0m\u001b[0;34m\u001b[0m\u001b[0;34m\u001b[0m\u001b[0m\n\u001b[0m",
      "\u001b[0;32m~/anaconda3/envs/ironhack/lib/python3.8/site-packages/pymongo/collection.py\u001b[0m in \u001b[0;36maggregate\u001b[0;34m(self, pipeline, session, **kwargs)\u001b[0m\n\u001b[1;32m   2500\u001b[0m         \"\"\"\n\u001b[1;32m   2501\u001b[0m         \u001b[0;32mwith\u001b[0m \u001b[0mself\u001b[0m\u001b[0;34m.\u001b[0m\u001b[0m__database\u001b[0m\u001b[0;34m.\u001b[0m\u001b[0mclient\u001b[0m\u001b[0;34m.\u001b[0m\u001b[0m_tmp_session\u001b[0m\u001b[0;34m(\u001b[0m\u001b[0msession\u001b[0m\u001b[0;34m,\u001b[0m \u001b[0mclose\u001b[0m\u001b[0;34m=\u001b[0m\u001b[0;32mFalse\u001b[0m\u001b[0;34m)\u001b[0m \u001b[0;32mas\u001b[0m \u001b[0ms\u001b[0m\u001b[0;34m:\u001b[0m\u001b[0;34m\u001b[0m\u001b[0;34m\u001b[0m\u001b[0m\n\u001b[0;32m-> 2502\u001b[0;31m             return self._aggregate(_CollectionAggregationCommand,\n\u001b[0m\u001b[1;32m   2503\u001b[0m                                    \u001b[0mpipeline\u001b[0m\u001b[0;34m,\u001b[0m\u001b[0;34m\u001b[0m\u001b[0;34m\u001b[0m\u001b[0m\n\u001b[1;32m   2504\u001b[0m                                    \u001b[0mCommandCursor\u001b[0m\u001b[0;34m,\u001b[0m\u001b[0;34m\u001b[0m\u001b[0;34m\u001b[0m\u001b[0m\n",
      "\u001b[0;32m~/anaconda3/envs/ironhack/lib/python3.8/site-packages/pymongo/collection.py\u001b[0m in \u001b[0;36m_aggregate\u001b[0;34m(self, aggregation_command, pipeline, cursor_class, session, explicit_session, **kwargs)\u001b[0m\n\u001b[1;32m   2414\u001b[0m                 \"useCursor\", kwargs.pop(\"useCursor\", True))\n\u001b[1;32m   2415\u001b[0m \u001b[0;34m\u001b[0m\u001b[0m\n\u001b[0;32m-> 2416\u001b[0;31m         cmd = aggregation_command(\n\u001b[0m\u001b[1;32m   2417\u001b[0m             \u001b[0mself\u001b[0m\u001b[0;34m,\u001b[0m \u001b[0mcursor_class\u001b[0m\u001b[0;34m,\u001b[0m \u001b[0mpipeline\u001b[0m\u001b[0;34m,\u001b[0m \u001b[0mkwargs\u001b[0m\u001b[0;34m,\u001b[0m \u001b[0mexplicit_session\u001b[0m\u001b[0;34m,\u001b[0m\u001b[0;34m\u001b[0m\u001b[0;34m\u001b[0m\u001b[0m\n\u001b[1;32m   2418\u001b[0m             user_fields={'cursor': {'firstBatch': 1}}, use_cursor=use_cursor)\n",
      "\u001b[0;32m~/anaconda3/envs/ironhack/lib/python3.8/site-packages/pymongo/aggregation.py\u001b[0m in \u001b[0;36m__init__\u001b[0;34m(self, *args, **kwargs)\u001b[0m\n\u001b[1;32m    176\u001b[0m         \u001b[0;31m# Pop additional option and initialize parent class.\u001b[0m\u001b[0;34m\u001b[0m\u001b[0;34m\u001b[0m\u001b[0;34m\u001b[0m\u001b[0m\n\u001b[1;32m    177\u001b[0m         \u001b[0muse_cursor\u001b[0m \u001b[0;34m=\u001b[0m \u001b[0mkwargs\u001b[0m\u001b[0;34m.\u001b[0m\u001b[0mpop\u001b[0m\u001b[0;34m(\u001b[0m\u001b[0;34m\"use_cursor\"\u001b[0m\u001b[0;34m,\u001b[0m \u001b[0;32mTrue\u001b[0m\u001b[0;34m)\u001b[0m\u001b[0;34m\u001b[0m\u001b[0;34m\u001b[0m\u001b[0m\n\u001b[0;32m--> 178\u001b[0;31m         \u001b[0msuper\u001b[0m\u001b[0;34m(\u001b[0m\u001b[0m_CollectionAggregationCommand\u001b[0m\u001b[0;34m,\u001b[0m \u001b[0mself\u001b[0m\u001b[0;34m)\u001b[0m\u001b[0;34m.\u001b[0m\u001b[0m__init__\u001b[0m\u001b[0;34m(\u001b[0m\u001b[0;34m*\u001b[0m\u001b[0margs\u001b[0m\u001b[0;34m,\u001b[0m \u001b[0;34m**\u001b[0m\u001b[0mkwargs\u001b[0m\u001b[0;34m)\u001b[0m\u001b[0;34m\u001b[0m\u001b[0;34m\u001b[0m\u001b[0m\n\u001b[0m\u001b[1;32m    179\u001b[0m \u001b[0;34m\u001b[0m\u001b[0m\n\u001b[1;32m    180\u001b[0m         \u001b[0;31m# Remove the cursor document if the user has set use_cursor to False.\u001b[0m\u001b[0;34m\u001b[0m\u001b[0;34m\u001b[0m\u001b[0;34m\u001b[0m\u001b[0m\n",
      "\u001b[0;32m~/anaconda3/envs/ironhack/lib/python3.8/site-packages/pymongo/aggregation.py\u001b[0m in \u001b[0;36m__init__\u001b[0;34m(self, target, cursor_class, pipeline, options, explicit_session, user_fields, result_processor)\u001b[0m\n\u001b[1;32m     38\u001b[0m         \u001b[0mself\u001b[0m\u001b[0;34m.\u001b[0m\u001b[0m_target\u001b[0m \u001b[0;34m=\u001b[0m \u001b[0mtarget\u001b[0m\u001b[0;34m\u001b[0m\u001b[0;34m\u001b[0m\u001b[0m\n\u001b[1;32m     39\u001b[0m \u001b[0;34m\u001b[0m\u001b[0m\n\u001b[0;32m---> 40\u001b[0;31m         \u001b[0mcommon\u001b[0m\u001b[0;34m.\u001b[0m\u001b[0mvalidate_list\u001b[0m\u001b[0;34m(\u001b[0m\u001b[0;34m'pipeline'\u001b[0m\u001b[0;34m,\u001b[0m \u001b[0mpipeline\u001b[0m\u001b[0;34m)\u001b[0m\u001b[0;34m\u001b[0m\u001b[0;34m\u001b[0m\u001b[0m\n\u001b[0m\u001b[1;32m     41\u001b[0m         \u001b[0mself\u001b[0m\u001b[0;34m.\u001b[0m\u001b[0m_pipeline\u001b[0m \u001b[0;34m=\u001b[0m \u001b[0mpipeline\u001b[0m\u001b[0;34m\u001b[0m\u001b[0;34m\u001b[0m\u001b[0m\n\u001b[1;32m     42\u001b[0m         \u001b[0mself\u001b[0m\u001b[0;34m.\u001b[0m\u001b[0m_performs_write\u001b[0m \u001b[0;34m=\u001b[0m \u001b[0;32mFalse\u001b[0m\u001b[0;34m\u001b[0m\u001b[0;34m\u001b[0m\u001b[0m\n",
      "\u001b[0;32m~/anaconda3/envs/ironhack/lib/python3.8/site-packages/pymongo/common.py\u001b[0m in \u001b[0;36mvalidate_list\u001b[0;34m(option, value)\u001b[0m\n\u001b[1;32m    471\u001b[0m     \u001b[0;34m\"\"\"Validates that 'value' is a list.\"\"\"\u001b[0m\u001b[0;34m\u001b[0m\u001b[0;34m\u001b[0m\u001b[0m\n\u001b[1;32m    472\u001b[0m     \u001b[0;32mif\u001b[0m \u001b[0;32mnot\u001b[0m \u001b[0misinstance\u001b[0m\u001b[0;34m(\u001b[0m\u001b[0mvalue\u001b[0m\u001b[0;34m,\u001b[0m \u001b[0mlist\u001b[0m\u001b[0;34m)\u001b[0m\u001b[0;34m:\u001b[0m\u001b[0;34m\u001b[0m\u001b[0;34m\u001b[0m\u001b[0m\n\u001b[0;32m--> 473\u001b[0;31m         \u001b[0;32mraise\u001b[0m \u001b[0mTypeError\u001b[0m\u001b[0;34m(\u001b[0m\u001b[0;34m\"%s must be a list\"\u001b[0m \u001b[0;34m%\u001b[0m \u001b[0;34m(\u001b[0m\u001b[0moption\u001b[0m\u001b[0;34m,\u001b[0m\u001b[0;34m)\u001b[0m\u001b[0;34m)\u001b[0m\u001b[0;34m\u001b[0m\u001b[0;34m\u001b[0m\u001b[0m\n\u001b[0m\u001b[1;32m    474\u001b[0m     \u001b[0;32mreturn\u001b[0m \u001b[0mvalue\u001b[0m\u001b[0;34m\u001b[0m\u001b[0;34m\u001b[0m\u001b[0m\n\u001b[1;32m    475\u001b[0m \u001b[0;34m\u001b[0m\u001b[0m\n",
      "\u001b[0;31mTypeError\u001b[0m: pipeline must be a list"
     ]
    }
   ],
   "source": [
    "total = [] # lista para resultado final\n",
    "for i in libres_cerca: #iteramos por la lista entera de librerías de antes \n",
    "    point = type_point([libreria[\"longitud\"],libreria[\"latitud\"]]) #preparamos tipo point de cada una \n",
    "    query = {\"geometry\": {\"$geoIntersects\": {\"$geometry\": point}}} #hacemos la query para buscar el barrio \n",
    "    resultado = dis.find_one(query) # hacemos la query \n",
    "    libre = {libreria[\"nombre\"]:resultado[\"properties\"][\"nombre\"]} # nombre de la librería y nombre del distrito de la query\n",
    "    total.append(libre)"
   ]
  },
  {
   "cell_type": "code",
   "execution_count": 86,
   "id": "40f68c49",
   "metadata": {},
   "outputs": [
    {
     "data": {
      "text/plain": [
       "['55.755786, 37.617633']"
      ]
     },
     "execution_count": 86,
     "metadata": {},
     "output_type": "execute_result"
    }
   ],
   "source": [
    "[m_coor]"
   ]
  },
  {
   "cell_type": "code",
   "execution_count": null,
   "id": "9b946b51",
   "metadata": {},
   "outputs": [],
   "source": []
  }
 ],
 "metadata": {
  "kernelspec": {
   "display_name": "ironhack",
   "language": "python",
   "name": "ironhack"
  },
  "language_info": {
   "codemirror_mode": {
    "name": "ipython",
    "version": 3
   },
   "file_extension": ".py",
   "mimetype": "text/x-python",
   "name": "python",
   "nbconvert_exporter": "python",
   "pygments_lexer": "ipython3",
   "version": "3.8.5"
  }
 },
 "nbformat": 4,
 "nbformat_minor": 5
}
